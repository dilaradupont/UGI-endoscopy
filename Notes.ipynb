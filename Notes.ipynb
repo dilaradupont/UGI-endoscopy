{
 "cells": [
  {
   "cell_type": "markdown",
   "metadata": {},
   "source": [
    "## 1. Examining the HyperKvasir Dataset\n",
    "### 1.1. Image labels"
   ]
  },
  {
   "cell_type": "code",
   "execution_count": 23,
   "metadata": {},
   "outputs": [
    {
     "name": "stdout",
     "output_type": "stream",
     "text": [
      "10662\n",
      "3452\n",
      "2695\n",
      "pylorus              999\n",
      "z-line               932\n",
      "retroflex-stomach    764\n",
      "Name: Finding, dtype: int64\n"
     ]
    }
   ],
   "source": [
    "import pandas as pd\n",
    "\n",
    "df1 = pd.read_csv('file-names/image-labels.csv')\n",
    "print(df1.shape)\n",
    "df1.drop(df1.loc[df1['Organ'] != 'Upper GI'].index, inplace=True)\n",
    "print(df1.shape)\n",
    "df1.drop(df1.loc[df1['Classification'] != 'anatomical-landmarks'].index, inplace=True)\n",
    "df1.reset_index(drop=True, inplace=True)\n",
    "print(df1.shape)\n",
    "print(df1['Finding'].value_counts())\n",
    "df1.to_csv('file-names/filtered-names/image-labels.csv')"
   ]
  },
  {
   "cell_type": "markdown",
   "metadata": {},
   "source": [
    "| # of Labeled Images | # of Upper GI Labels | # of Anatomical Landmark Labels | # of Z-line Labels | # of Retroflex Stomach Labels | # of Pylorus Labels |\n",
    "| - | - | - | - | - | - |\n",
    "| 10662 | 3452 | 2695 | 932 | 764 | 999 |\n",
    "\n",
    "### 1.2. Video Labels"
   ]
  },
  {
   "cell_type": "code",
   "execution_count": 40,
   "metadata": {},
   "outputs": [
    {
     "name": "stdout",
     "output_type": "stream",
     "text": [
      "(374, 7)\n",
      "(60, 7)\n",
      "(12, 7)\n"
     ]
    }
   ],
   "source": [
    "lis1 = []\n",
    "df2 = pd.read_csv('file-names/video-labels.csv')\n",
    "print(df2.shape)\n",
    "df2.drop(df2.loc[df2['Organ'] != 'Upper GI'].index, inplace=True)\n",
    "df2.reset_index(drop=True, inplace=True)\n",
    "print(df2.shape)\n",
    "for i in range(df2.shape[0]):\n",
    "    if (df2['Classification 1'].iloc[i] != 'Anatomical landmarks') \\\n",
    "        & (df2['Classification 2'].iloc[i] != 'Anatomical landmarks'):\n",
    "            lis1.append(i)\n",
    "df2.drop(df2.index[lis1], inplace=True)\n",
    "df2.reset_index(drop=True, inplace=True)\n",
    "print(df2.shape)\n"
   ]
  },
  {
   "cell_type": "code",
   "execution_count": 39,
   "metadata": {},
   "outputs": [
    {
     "name": "stdout",
     "output_type": "stream",
     "text": [
      "Placement of duodenal tube               1.0\n",
      "Z-line                                   5.0\n",
      "distal oesophagus,                       1.0\n",
      "duodenal diverticula                     1.0\n",
      "duodenum                                 1.0\n",
      "hematine, mix of old blod and liquide    1.0\n",
      "polyps                                   1.0\n",
      "pylorus                                  6.0\n",
      "reduced view                             1.0\n",
      "retroflex stomach                        2.0\n",
      "dtype: float64\n"
     ]
    }
   ],
   "source": [
    "for i in range(df2.shape[0]):\n",
    "    if (df2['Classification 1'].iloc[i] == 'Anatomical landmarks') \\\n",
    "        & (df2['Classification 2'].iloc[i] == 'Anatomical landmarks'):\n",
    "            lis1.append(i)\n",
    "count1 = df2['Finding 1'].value_counts() \n",
    "count2= df2['Finding 2'].value_counts()\n",
    "count3 = count1.add(count2, fill_value=0)\n",
    "print(count3)\n",
    "df2.to_csv('file-names/filtered-names/video-labels.csv')"
   ]
  },
  {
   "cell_type": "markdown",
   "metadata": {},
   "source": [
    "| # of Labeled Videos | # of Upper GI Labels | # of Anatomical Landmark Labels | # of Z-line Labels | # of Retroflex Stomach Labels | # of Pyrolus Labels |\n",
    "| - | - | - | - | - | - |\n",
    "| 374 | 60 | 12 | 5 | 2 | 6 | "
   ]
  }
 ],
 "metadata": {
  "interpreter": {
   "hash": "aee8b7b246df8f9039afb4144a1f6fd8d2ca17a180786b69acc140d282b71a49"
  },
  "kernelspec": {
   "display_name": "Python 3.9.1 64-bit",
   "language": "python",
   "name": "python3"
  },
  "language_info": {
   "codemirror_mode": {
    "name": "ipython",
    "version": 3
   },
   "file_extension": ".py",
   "mimetype": "text/x-python",
   "name": "python",
   "nbconvert_exporter": "python",
   "pygments_lexer": "ipython3",
   "version": "3.9.1"
  },
  "orig_nbformat": 4
 },
 "nbformat": 4,
 "nbformat_minor": 2
}
