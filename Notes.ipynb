{
 "cells": [
  {
   "cell_type": "markdown",
   "metadata": {},
   "source": [
    "## 1. HyperKvasir Dataset\n",
    "### 1.1. Image labels"
   ]
  },
  {
   "cell_type": "code",
   "execution_count": 35,
   "metadata": {},
   "outputs": [
    {
     "name": "stdout",
     "output_type": "stream",
     "text": [
      "# of Labeled Images: 10662\n",
      "# of Upper GI Labels: 3452\n",
      "# of Anatomical Landmark Labels: 2695\n",
      "pylorus              999\n",
      "z-line               932\n",
      "retroflex-stomach    764\n",
      "Name: Finding, dtype: int64\n"
     ]
    }
   ],
   "source": [
    "import pandas as pd\n",
    "\n",
    "df1 = pd.read_csv('file-names/not-filtered/image-labels.csv')\n",
    "print(f'# of Labeled Images: {df1.shape[0]}')\n",
    "df1.drop(df1.loc[df1['Organ'] != 'Upper GI'].index, inplace=True)\n",
    "print(f'# of Upper GI Labels: {df1.shape[0]}')\n",
    "df1.drop(df1.loc[df1['Classification'] != 'anatomical-landmarks'].index, inplace=True)\n",
    "df1.reset_index(drop=True, inplace=True)\n",
    "print(f'# of Anatomical Landmark Labels: {df1.shape[0]}')\n",
    "print(df1['Finding'].value_counts())\n",
    "df1.to_csv('file-names/filtered-names/image-labels.csv')"
   ]
  },
  {
   "cell_type": "markdown",
   "metadata": {},
   "source": [
    "| # of Labeled Images | # of Upper GI Labels | # of Anatomical Landmark Labels | # of Z-line Labels | # of Retroflex Stomach Labels | # of Pylorus Labels |\n",
    "| - | - | - | - | - | - |\n",
    "| 10662 | 3452 | 2695 | 932 | 764 | 999 |"
   ]
  },
  {
   "cell_type": "code",
   "execution_count": 38,
   "metadata": {},
   "outputs": [
    {
     "data": {
      "image/png": "[encoded data removed]",
      "text/plain": [
       "<Figure size 432x288 with 1 Axes>"
      ]
     },
     "metadata": {
      "needs_background": "light"
     },
     "output_type": "display_data"
    }
   ],
   "source": [
    "import matplotlib.pyplot as plt\n",
    "\n",
    "width = 0.3\n",
    "data = {'z-line': 932, 'retroflex stomach': 764, 'pylorus': 999}\n",
    "names = list(data.keys())\n",
    "values = list(data.values())\n",
    "\n",
    "fig, ax = plt.subplots()\n",
    "ax.bar(names, values, width, color='c')\n",
    "plt.xlabel('Anatomical Landmarks')\n",
    "plt.ylabel('Number of Labelled Images')\n",
    "plt.title('Number of Labelled Images for each Anatomical Landmark in HyperKvasir Dataset')\n",
    "\n",
    "for i in range(len(names)):\n",
    "    plt.text(i,values[i]-100,values[i], ha='center')\n",
    "\n",
    "plt.show()"
   ]
  },
  {
   "cell_type": "markdown",
   "metadata": {},
   "source": [
    "<p align=\"center\">\n",
    "   <img width=\"800\" height=\"400\" src=images/labelled-image-count-hyperkvasir-paper.png>\n",
    "</p>\n",
    "<p align=\"center\">\n",
    "<strong>Figure. 2</strong>: Number of image labels from HyperKvasir paper.\n",
    "</p>"
   ]
  },
  {
   "cell_type": "markdown",
   "metadata": {},
   "source": [
    "### 1.2. Video Labels"
   ]
  },
  {
   "cell_type": "code",
   "execution_count": 8,
   "metadata": {},
   "outputs": [],
   "source": [
    "lis1 = []\n",
    "df2 = pd.read_csv('file-names/video-labels.csv')\n",
    "print(df2.shape)\n",
    "df2.drop(df2.loc[df2['Organ'] != 'Upper GI'].index, inplace=True)\n",
    "df2.reset_index(drop=True, inplace=True)\n",
    "print(df2.shape)\n",
    "for i in range(df2.shape[0]):\n",
    "    if (df2['Classification 1'].iloc[i] != 'Anatomical landmarks') \\\n",
    "        & (df2['Classification 2'].iloc[i] != 'Anatomical landmarks'):\n",
    "            lis1.append(i)\n",
    "df2.drop(df2.index[lis1], inplace=True)\n",
    "df2.reset_index(drop=True, inplace=True)\n",
    "print(df2.shape)\n"
   ]
  },
  {
   "cell_type": "code",
   "execution_count": 9,
   "metadata": {},
   "outputs": [],
   "source": [
    "for i in range(df2.shape[0]):\n",
    "    if (df2['Classification 1'].iloc[i] == 'Anatomical landmarks') \\\n",
    "        & (df2['Classification 2'].iloc[i] == 'Anatomical landmarks'):\n",
    "            lis1.append(i)\n",
    "count1 = df2['Finding 1'].value_counts() \n",
    "count2= df2['Finding 2'].value_counts()\n",
    "count3 = count1.add(count2, fill_value=0)\n",
    "print(count3)\n",
    "df2.to_csv('file-names/filtered-names/video-labels.csv')"
   ]
  },
  {
   "cell_type": "markdown",
   "metadata": {},
   "source": [
    "| # of Labeled Videos | # of Upper GI Labels | # of Anatomical Landmark Labels | # of Z-line Labels | # of Retroflex Stomach Labels | # of Pyrolus Labels |\n",
    "| - | - | - | - | - | - |\n",
    "| 374 | 60 | 12 | 5 | 2 | 6 | "
   ]
  }
 ],
 "metadata": {
  "interpreter": {
   "hash": "aee8b7b246df8f9039afb4144a1f6fd8d2ca17a180786b69acc140d282b71a49"
  },
  "kernelspec": {
   "display_name": "Python 3.9.1 64-bit",
   "language": "python",
   "name": "python3"
  },
  "language_info": {
   "codemirror_mode": {
    "name": "ipython",
    "version": 3
   },
   "file_extension": ".py",
   "mimetype": "text/x-python",
   "name": "python",
   "nbconvert_exporter": "python",
   "pygments_lexer": "ipython3",
   "version": "3.9.1"
  },
  "orig_nbformat": 4
 },
 "nbformat": 4,
 "nbformat_minor": 2
}
