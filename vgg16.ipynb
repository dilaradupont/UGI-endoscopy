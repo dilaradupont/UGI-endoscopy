{
 "cells": [
  {
   "cell_type": "markdown",
   "metadata": {},
   "source": [
    "# 1. Pre-processing\n",
    "### 1.1. Imports and Setting the path"
   ]
  },
  {
   "cell_type": "code",
   "execution_count": 2,
   "metadata": {},
   "outputs": [
    {
     "name": "stderr",
     "output_type": "stream",
     "text": [
      "2022-04-03 21:29:53.031401: W tensorflow/stream_executor/platform/default/dso_loader.cc:64] Could not load dynamic library 'libcudart.so.11.0'; dlerror: libcudart.so.11.0: cannot open shared object file: No such file or directory\n",
      "2022-04-03 21:29:53.031418: I tensorflow/stream_executor/cuda/cudart_stub.cc:29] Ignore above cudart dlerror if you do not have a GPU set up on your machine.\n"
     ]
    },
    {
     "name": "stdout",
     "output_type": "stream",
     "text": [
      "6993\n",
      "5348\n",
      "6524\n",
      "5299\n",
      "[6993, 5348, 6524, 5299]\n"
     ]
    }
   ],
   "source": [
    "IMAGE_SIZE = [224, 224]\n",
    "PATH = '/home/dilara/UGI-endoscopy/images'\n",
    "CLASSES = ['pylorus', 'retroflex-stomach', 'z-line', 'other']\n",
    "\n",
    "import keras\n",
    "from keras.utils import np_utils\n",
    "from keras.layers import Dense, Flatten \n",
    "from keras.models import Model, Sequential\n",
    "from keras.applications.vgg16 import VGG16, preprocess_input\n",
    "from keras.preprocessing import image\n",
    "from keras.preprocessing.image import ImageDataGenerator\n",
    "import tensorflow as tf\n",
    "import numpy as np\n",
    "import glob\n",
    "import matplotlib.pyplot as plt\n",
    "import os\n",
    "import ssl\n",
    "ssl._create_default_https_context = ssl._create_unverified_context\n",
    "import skimage\n",
    "from skimage import io\n",
    "import cv2\n",
    "import matplotlib.pyplot as plt\n",
    "import numpy as np\n",
    "from sklearn import svm\n",
    "from sklearn.metrics import classification_report, accuracy_score, confusion_matrix\n",
    "from sklearn.model_selection import train_test_split\n",
    "import pandas as pd\n",
    "import seaborn as sbs\n",
    "from PIL import Image\n",
    "\n",
    "## setting the paths\n",
    "all_paths = []\n",
    "len_lis = []\n",
    "for landmark in CLASSES:\n",
    "    other_path = os.path.join(PATH, landmark, '*')\n",
    "    all_paths.append(sorted(glob.glob(other_path)))\n",
    "# all_paths = list(np.concatenate(all_paths).flat)\n",
    "\n",
    "## finding the number of image per class\n",
    "for lis in all_paths:\n",
    "    x = 0\n",
    "    for item in lis:\n",
    "        x+=1\n",
    "    print(x)\n",
    "    len_lis.append(x)\n",
    "print(len_lis)\n",
    "\n",
    "all_paths = list(np.concatenate(all_paths).flat)\n",
    "\n",
    "# df = pd.read_csv('file-names/filtered-names/numbered-labels.csv')\n",
    "# all_labels = df['Finding'].to_numpy()\n",
    "\n",
    "# # pylorus_labels = all_labels[0:5]\n",
    "# # retroflex_stomach_labels = all_labels[999:1004]\n",
    "# # zline_labels = all_labels[1763:1768]\n",
    "# # other_labels = all_labels[2695:2700]\n",
    "\n",
    "pylorus_labels = [1] * len_lis[0]\n",
    "retroflex_stomach_labels = [3] * len_lis[1]\n",
    "zline_labels = [2] * len_lis[2]\n",
    "other_labels = [0] * len_lis[3]\n",
    "all_labels = list(np.concatenate([pylorus_labels, retroflex_stomach_labels,\n",
    " zline_labels, other_labels]).flat)\n",
    "all_labels = np.array(all_labels)"
   ]
  },
  {
   "cell_type": "markdown",
   "metadata": {},
   "source": [
    "## 1.2. Data Augmentation"
   ]
  },
  {
   "cell_type": "code",
   "execution_count": 2,
   "metadata": {},
   "outputs": [],
   "source": [
    "# for path in all_paths:\n",
    "# \tfile_name = path[:len(path)-4]\n",
    "# \tfile_name = file_name[:len(file_name)-4]\n",
    "# \timage = cv2.imread(path)\n",
    "# \timage = cv2.cvtColor(image, cv2.COLOR_BGR2RGB)\n",
    "# \trows, cols, dim = image.shape\n",
    "\n",
    "# \t# flipping images upside down and leftright\n",
    "# \timage_fliplr = np.fliplr(image)\n",
    "# \timage_flipud = np.flipud(image)\n",
    "# \tplt.imsave(f'{path}_image_flipud.jpg', image_flipud)\n",
    "# \tplt.imsave(f'{path}_image_fliplr.jpg', image_fliplr)\n",
    "\n",
    "# \t# rotating image\n",
    "# \trotated_img = skimage.transform.rotate(image, 90)\n",
    "# \tplt.imsave(f'{path}_rotated_img.jpg', rotated_img)\n",
    "\n",
    "# \t# shear transform on x-axis\n",
    "# \tM = np.float32([[1, 0.7, 0],\n",
    "# \t\t\t\t\t[0, 1  , 0],\n",
    "# \t\t\t\t\t[0, 0  , 1]])             \n",
    "# \tsheared_img = cv2.warpPerspective(image,M,(int(cols*1.5),int(rows*1.5)))\n",
    "# \tplt.imsave(f'{path}_sheared_img.jpg', sheared_img)\n",
    "\n",
    "# \t## zoom out\n",
    "# \tM = np.float32([[1.5, 0  , 0],\n",
    "# \t\t\t\t\t[0,   1.5, 0],\n",
    "# \t\t\t\t\t[0,   0,   1]])\n",
    "# \tscaledin_img = cv2.warpPerspective(image,M,(cols,rows))\n",
    "# \tplt.imsave(f'{path}_scaledin_img.jpg', scaledin_img)\n",
    "\n",
    "# \tM = np.float32([[0.8, 0  , 0],\n",
    "# \t\t\t\t\t[0,   0.8, 0],\n",
    "# \t\t\t\t\t[0,   0,   1]])\n",
    "# \tscaledout_img = cv2.warpPerspective(image,M,(cols,rows))\n",
    "# \tplt.imsave(f'{path}_scaledout_img.jpg', scaledout_img)"
   ]
  },
  {
   "cell_type": "markdown",
   "metadata": {},
   "source": [
    "## 1.3. Splitting the Dataset"
   ]
  },
  {
   "cell_type": "code",
   "execution_count": 3,
   "metadata": {},
   "outputs": [
    {
     "name": "stdout",
     "output_type": "stream",
     "text": [
      "4\n",
      "24164\n",
      "(18123, 224, 224, 3)\n"
     ]
    }
   ],
   "source": [
    "# storing pixel and label information\n",
    "new_paths = []\n",
    "count = 0\n",
    "for landmark in CLASSES:\n",
    "    other_path = os.path.join(PATH, landmark, '*')\n",
    "    new_paths.append(sorted(glob.glob(other_path)))\n",
    "    count += 1\n",
    "new_paths = list(np.concatenate(new_paths).flat)\n",
    "print(count)\n",
    "\n",
    "# def count_files(i):\n",
    "#     count = 0\n",
    "#     # Iterate directory\n",
    "#     for path in other_path[i]:\n",
    "#         # check if current path is a file\n",
    "#         if os.path.isfile(os.path.join(, path)):\n",
    "#             count += 1\n",
    "# print('File count:', count)\n",
    "# count_files(0)\n",
    "\n",
    "# pylorus_labels = [1] * 35\n",
    "# retroflex_stomach_labels = [3] * 35\n",
    "# zline_labels = [2] * 35\n",
    "# other_labels = [0] * 35\n",
    "# all_labels = list(np.concatenate([pylorus_labels, retroflex_stomach_labels,\n",
    "#  zline_labels, other_labels]).flat)\n",
    "# all_labels = np.array(all_labels)\n",
    "\n",
    "# pylorus_labels = [1] * len_lis[0]\n",
    "# retroflex_stomach_labels = [3] * len_lis[1]\n",
    "# zline_labels = [2] * len_lis[2]\n",
    "# other_labels = [0] * len_lis[3]\n",
    "# all_labels = list(np.concatenate([pylorus_labels, retroflex_stomach_labels,\n",
    "#  zline_labels, other_labels]).flat)\n",
    "# all_labels = np.array(all_labels)\n",
    "\n",
    "pix = []\n",
    "for path in new_paths:\n",
    "    file_name = path.split('/')[-1]\n",
    "    image = cv2.imread(path)\n",
    "    image_data = cv2.resize(image, IMAGE_SIZE, interpolation = cv2.INTER_AREA)\n",
    "    pix.append(image_data)\n",
    "\n",
    "pix = np.array(pix)\n",
    "print(len(pix))\n",
    "pix_train, pix_val, label_train, label_val = train_test_split(pix, all_labels, train_size=0.75, random_state = 42)\n",
    "label_train = keras.utils.np_utils.to_categorical(label_train, num_classes=4)\n",
    "label_val = keras.utils.np_utils.to_categorical(label_val, num_classes=4)\n",
    "print(pix_train.shape)"
   ]
  },
  {
   "cell_type": "markdown",
   "metadata": {},
   "source": [
    "# 2. Building the Model"
   ]
  },
  {
   "cell_type": "code",
   "execution_count": 4,
   "metadata": {},
   "outputs": [
    {
     "name": "stderr",
     "output_type": "stream",
     "text": [
      "2022-04-03 21:40:43.694767: W tensorflow/stream_executor/platform/default/dso_loader.cc:64] Could not load dynamic library 'libcudart.so.11.0'; dlerror: libcudart.so.11.0: cannot open shared object file: No such file or directory; LD_LIBRARY_PATH: /home/dilara/.local/lib/python3.8/site-packages/cv2/../../lib64:\n",
      "2022-04-03 21:40:43.694828: W tensorflow/stream_executor/platform/default/dso_loader.cc:64] Could not load dynamic library 'libcublas.so.11'; dlerror: libcublas.so.11: cannot open shared object file: No such file or directory; LD_LIBRARY_PATH: /home/dilara/.local/lib/python3.8/site-packages/cv2/../../lib64:\n",
      "2022-04-03 21:40:43.694859: W tensorflow/stream_executor/platform/default/dso_loader.cc:64] Could not load dynamic library 'libcublasLt.so.11'; dlerror: libcublasLt.so.11: cannot open shared object file: No such file or directory; LD_LIBRARY_PATH: /home/dilara/.local/lib/python3.8/site-packages/cv2/../../lib64:\n",
      "2022-04-03 21:40:43.706985: W tensorflow/stream_executor/platform/default/dso_loader.cc:64] Could not load dynamic library 'libcusolver.so.11'; dlerror: libcusolver.so.11: cannot open shared object file: No such file or directory; LD_LIBRARY_PATH: /home/dilara/.local/lib/python3.8/site-packages/cv2/../../lib64:\n",
      "2022-04-03 21:40:43.707029: W tensorflow/stream_executor/platform/default/dso_loader.cc:64] Could not load dynamic library 'libcusparse.so.11'; dlerror: libcusparse.so.11: cannot open shared object file: No such file or directory; LD_LIBRARY_PATH: /home/dilara/.local/lib/python3.8/site-packages/cv2/../../lib64:\n",
      "2022-04-03 21:40:43.707061: W tensorflow/stream_executor/platform/default/dso_loader.cc:64] Could not load dynamic library 'libcudnn.so.8'; dlerror: libcudnn.so.8: cannot open shared object file: No such file or directory; LD_LIBRARY_PATH: /home/dilara/.local/lib/python3.8/site-packages/cv2/../../lib64:\n",
      "2022-04-03 21:40:43.707069: W tensorflow/core/common_runtime/gpu/gpu_device.cc:1850] Cannot dlopen some GPU libraries. Please make sure the missing libraries mentioned above are installed properly if you would like to use GPU. Follow the guide at https://www.tensorflow.org/install/gpu for how to download and setup the required libraries for your platform.\n",
      "Skipping registering GPU devices...\n",
      "2022-04-03 21:40:43.707764: I tensorflow/core/platform/cpu_feature_guard.cc:151] This TensorFlow binary is optimized with oneAPI Deep Neural Network Library (oneDNN) to use the following CPU instructions in performance-critical operations:  AVX2 AVX512F FMA\n",
      "To enable them in other operations, rebuild TensorFlow with the appropriate compiler flags.\n"
     ]
    },
    {
     "name": "stdout",
     "output_type": "stream",
     "text": [
      "Model: \"model\"\n",
      "_________________________________________________________________\n",
      " Layer (type)                Output Shape              Param #   \n",
      "=================================================================\n",
      " input_1 (InputLayer)        [(None, 224, 224, 3)]     0         \n",
      "                                                                 \n",
      " block1_conv1 (Conv2D)       (None, 224, 224, 64)      1792      \n",
      "                                                                 \n",
      " block1_conv2 (Conv2D)       (None, 224, 224, 64)      36928     \n",
      "                                                                 \n",
      " block1_pool (MaxPooling2D)  (None, 112, 112, 64)      0         \n",
      "                                                                 \n",
      " block2_conv1 (Conv2D)       (None, 112, 112, 128)     73856     \n",
      "                                                                 \n",
      " block2_conv2 (Conv2D)       (None, 112, 112, 128)     147584    \n",
      "                                                                 \n",
      " block2_pool (MaxPooling2D)  (None, 56, 56, 128)       0         \n",
      "                                                                 \n",
      " block3_conv1 (Conv2D)       (None, 56, 56, 256)       295168    \n",
      "                                                                 \n",
      " block3_conv2 (Conv2D)       (None, 56, 56, 256)       590080    \n",
      "                                                                 \n",
      " block3_conv3 (Conv2D)       (None, 56, 56, 256)       590080    \n",
      "                                                                 \n",
      " block3_pool (MaxPooling2D)  (None, 28, 28, 256)       0         \n",
      "                                                                 \n",
      " block4_conv1 (Conv2D)       (None, 28, 28, 512)       1180160   \n",
      "                                                                 \n",
      " block4_conv2 (Conv2D)       (None, 28, 28, 512)       2359808   \n",
      "                                                                 \n",
      " block4_conv3 (Conv2D)       (None, 28, 28, 512)       2359808   \n",
      "                                                                 \n",
      " block4_pool (MaxPooling2D)  (None, 14, 14, 512)       0         \n",
      "                                                                 \n",
      " block5_conv1 (Conv2D)       (None, 14, 14, 512)       2359808   \n",
      "                                                                 \n",
      " block5_conv2 (Conv2D)       (None, 14, 14, 512)       2359808   \n",
      "                                                                 \n",
      " block5_conv3 (Conv2D)       (None, 14, 14, 512)       2359808   \n",
      "                                                                 \n",
      " block5_pool (MaxPooling2D)  (None, 7, 7, 512)         0         \n",
      "                                                                 \n",
      " flatten (Flatten)           (None, 25088)             0         \n",
      "                                                                 \n",
      " dense (Dense)               (None, 4)                 100356    \n",
      "                                                                 \n",
      "=================================================================\n",
      "Total params: 14,815,044\n",
      "Trainable params: 100,356\n",
      "Non-trainable params: 14,714,688\n",
      "_________________________________________________________________\n"
     ]
    }
   ],
   "source": [
    "vgg = VGG16(input_shape=(224, 224, 3), weights='imagenet', include_top=False)\n",
    "\n",
    "# don't train the existing weights\n",
    "for layer in vgg.layers:\n",
    " layer.trainable = False\n",
    " \n",
    "x = Flatten()(vgg.output)\n",
    "prediction = Dense(4, activation='softmax')(x)\n",
    "model = Model(inputs=vgg.input, outputs=prediction)\n",
    "model.compile(loss='categorical_crossentropy',\n",
    "                    optimizer='adam',\n",
    "                    metrics=['accuracy'])\n",
    "model.summary()"
   ]
  },
  {
   "cell_type": "markdown",
   "metadata": {},
   "source": [
    "# 3. Training the Model"
   ]
  },
  {
   "cell_type": "code",
   "execution_count": 6,
   "metadata": {},
   "outputs": [
    {
     "name": "stdout",
     "output_type": "stream",
     "text": [
      "Epoch 1/10\n",
      "284/284 [==============================] - 453s 2s/step - loss: 0.4925 - accuracy: 0.9690 - val_loss: 4.3286 - val_accuracy: 0.8744\n",
      "Epoch 2/10\n",
      "284/284 [==============================] - 448s 2s/step - loss: 0.3942 - accuracy: 0.9735 - val_loss: 5.9107 - val_accuracy: 0.8687\n",
      "Epoch 3/10\n",
      "284/284 [==============================] - 443s 2s/step - loss: 0.4676 - accuracy: 0.9720 - val_loss: 5.4058 - val_accuracy: 0.8687\n",
      "Epoch 4/10\n",
      "284/284 [==============================] - 444s 2s/step - loss: 0.4742 - accuracy: 0.9731 - val_loss: 5.2867 - val_accuracy: 0.8724\n",
      "Epoch 5/10\n",
      "284/284 [==============================] - 442s 2s/step - loss: 0.4041 - accuracy: 0.9756 - val_loss: 5.6050 - val_accuracy: 0.8742\n",
      "Epoch 6/10\n",
      "284/284 [==============================] - 445s 2s/step - loss: 0.3780 - accuracy: 0.9784 - val_loss: 6.0782 - val_accuracy: 0.8710\n",
      "Epoch 7/10\n",
      "284/284 [==============================] - 448s 2s/step - loss: 0.4158 - accuracy: 0.9778 - val_loss: 7.5718 - val_accuracy: 0.8694\n",
      "Epoch 8/10\n",
      "284/284 [==============================] - 450s 2s/step - loss: 0.4931 - accuracy: 0.9754 - val_loss: 7.0446 - val_accuracy: 0.8742\n",
      "Epoch 9/10\n",
      "284/284 [==============================] - 442s 2s/step - loss: 0.3588 - accuracy: 0.9809 - val_loss: 6.9485 - val_accuracy: 0.8709\n",
      "Epoch 10/10\n",
      "284/284 [==============================] - 446s 2s/step - loss: 0.4749 - accuracy: 0.9760 - val_loss: 7.0602 - val_accuracy: 0.8752\n"
     ]
    }
   ],
   "source": [
    "history = model.fit(pix_train, label_train, batch_size=64, epochs=10, validation_data=(pix_val, label_val))"
   ]
  },
  {
   "cell_type": "markdown",
   "metadata": {},
   "source": [
    "## 3.1. Plotting Model History"
   ]
  },
  {
   "cell_type": "code",
   "execution_count": 7,
   "metadata": {},
   "outputs": [
    {
     "data": {
      "image/png": "[encoded data removed]",
      "text/plain": [
       "<Figure size 1080x360 with 2 Axes>"
      ]
     },
     "metadata": {
      "needs_background": "light"
     },
     "output_type": "display_data"
    }
   ],
   "source": [
    "def plot_model_history(model_history):\n",
    "    fig, axs = plt.subplots(1,2,figsize=(15,5))\n",
    "    \n",
    "    # Summarizing history for accuracy\n",
    "    axs[0].plot(range(1,len(model_history.history['accuracy'])+1),model_history.history['accuracy'])\n",
    "    axs[0].plot(range(1,len(model_history.history['val_accuracy'])+1),model_history.history['val_accuracy'])\n",
    "    axs[0].set_title('Model Accuracy')\n",
    "    axs[0].set_ylabel('Accuracy')\n",
    "    axs[0].set_xlabel('Epoch')\n",
    "    axs[0].legend(['Training Accuracy', 'Validation Accuracy'], loc='best')\n",
    "    \n",
    "    # Summarizing history for loss\n",
    "    axs[1].plot(range(1,len(model_history.history['loss'])+1),model_history.history['loss'])\n",
    "    axs[1].plot(range(1,len(model_history.history['val_loss'])+1),model_history.history['val_loss'])\n",
    "    axs[1].set_title('Model Loss')\n",
    "    axs[1].set_ylabel('Loss')\n",
    "    axs[1].set_xlabel('Epoch')\n",
    "    axs[1].legend(['Training Loss', 'Validation Loss'], loc='best')\n",
    "    plt.show()\n",
    "\n",
    "plot_model_history(history)"
   ]
  },
  {
   "cell_type": "markdown",
   "metadata": {},
   "source": [
    "# 4. Output Prediction and Evaluation"
   ]
  },
  {
   "cell_type": "code",
   "execution_count": 8,
   "metadata": {},
   "outputs": [
    {
     "name": "stdout",
     "output_type": "stream",
     "text": [
      "Classification report:\n",
      "                        precision    recall  f1-score   support\n",
      "\n",
      "            other (0)       0.74      0.72      0.73      1332\n",
      "          pylorus (1)       0.99      0.97      0.98      1777\n",
      "           z-line (2)       0.76      0.80      0.78      1595\n",
      "retroflex-stomach (3)       1.00      0.99      0.99      1337\n",
      "\n",
      "             accuracy                           0.88      6041\n",
      "            macro avg       0.87      0.87      0.87      6041\n",
      "         weighted avg       0.88      0.88      0.88      6041\n",
      "\n"
     ]
    }
   ],
   "source": [
    "label_predict = model.predict(pix_val)\n",
    "# print(label_predict)\n",
    "label_predict = np.argmax(model.predict(pix_val), axis=1)  # returns class values between 0 and 3 from highest prediction\n",
    "# print(label_predict)\n",
    "label_true = np.argmax(label_val, axis=1) \n",
    "# print(label_true)\n",
    "\n",
    "target_names = ['other (0)', 'pylorus (1)', 'z-line (2)','retroflex-stomach (3)']\n",
    "print(\"Classification report:\\n\", classification_report(label_true, label_predict, target_names=target_names))"
   ]
  },
  {
   "cell_type": "markdown",
   "metadata": {},
   "source": [
    "### 4.1. Confusion Matrix"
   ]
  },
  {
   "cell_type": "code",
   "execution_count": 9,
   "metadata": {},
   "outputs": [
    {
     "data": {
      "image/png": "[encoded data removed]",
      "text/plain": [
       "<Figure size 720x720 with 2 Axes>"
      ]
     },
     "metadata": {
      "needs_background": "light"
     },
     "output_type": "display_data"
    }
   ],
   "source": [
    "# Evaluating the CNN model by creating a confusion matrix\n",
    "cm = confusion_matrix(label_true, label_predict)\n",
    "\n",
    "plt.figure(figsize=(10,10))\n",
    "ax = plt.subplot()\n",
    "\n",
    "sbs.set(font_scale=2) \n",
    "sbs.heatmap(cm, annot=True, ax=ax, cmap=\"Blues\", fmt=\"g\");  \n",
    "\n",
    "# Labels, title and ticks\n",
    "ax.set_xlabel('Predicted Label');\n",
    "ax.set_ylabel('True Label');\n",
    "\n",
    "title_font = {'size':'36'}  \n",
    "ax.set_title('Confusion Matrix', fontdict=title_font);\n",
    "\n",
    "ax.tick_params(axis='both', which='major', labelsize=20) \n",
    "ax.xaxis.set_ticklabels(['0', '1', '2','3']);\n",
    "ax.yaxis.set_ticklabels(['0', '1', '2','3']);\n",
    "plt.show()"
   ]
  }
 ],
 "metadata": {
  "interpreter": {
   "hash": "31f2aee4e71d21fbe5cf8b01ff0e069b9275f58929596ceb00d14d90e3e16cd6"
  },
  "kernelspec": {
   "display_name": "Python 3.8.10 64-bit",
   "language": "python",
   "name": "python3"
  },
  "language_info": {
   "codemirror_mode": {
    "name": "ipython",
    "version": 3
   },
   "file_extension": ".py",
   "mimetype": "text/x-python",
   "name": "python",
   "nbconvert_exporter": "python",
   "pygments_lexer": "ipython3",
   "version": "3.8.10"
  },
  "orig_nbformat": 4
 },
 "nbformat": 4,
 "nbformat_minor": 2
}
